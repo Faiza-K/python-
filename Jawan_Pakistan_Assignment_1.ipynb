{
  "nbformat": 4,
  "nbformat_minor": 0,
  "metadata": {
    "colab": {
      "name": "Jawan Pakistan Assignment 1.ipynb",
      "provenance": [],
      "collapsed_sections": []
    },
    "kernelspec": {
      "name": "python3",
      "display_name": "Python 3"
    },
    "language_info": {
      "name": "python"
    }
  },
  "cells": [
    {
      "cell_type": "markdown",
      "source": [
        "##Question 1"
      ],
      "metadata": {
        "id": "Zq9CsOt2uAyL"
      }
    },
    {
      "cell_type": "code",
      "execution_count": 2,
      "metadata": {
        "colab": {
          "base_uri": "https://localhost:8080/"
        },
        "id": "J66qsTfG_vKL",
        "outputId": "3fdea8b9-b106-4c80-906f-0db54e6ecc35"
      },
      "outputs": [
        {
          "output_type": "stream",
          "name": "stdout",
          "text": [
            "Twinkle, twinkle, little star,\n",
            "        How I wonder what you are!\n",
            "                    Up above the world so high,\n",
            "                    Like a diamond in the sky.\n",
            "Twinkle, twinkle, little star\n",
            "        How I wonder what you are\n"
          ]
        }
      ],
      "source": [
        "print(\"Twinkle, twinkle, little star,\")\n",
        "print(\"        How I wonder what you are!\")\n",
        "print(\"                    Up above the world so high,\")\n",
        "print(\"                    Like a diamond in the sky.\")\n",
        "print(\"Twinkle, twinkle, little star\")\n",
        "print(\"        How I wonder what you are\")"
      ]
    },
    {
      "cell_type": "markdown",
      "source": [
        "##Question 2"
      ],
      "metadata": {
        "id": "LLERhFLEuHu9"
      }
    },
    {
      "cell_type": "code",
      "source": [
        "from platform import python_version\n",
        "python_version()"
      ],
      "metadata": {
        "colab": {
          "base_uri": "https://localhost:8080/",
          "height": 35
        },
        "id": "_RlBGt3FqbZ0",
        "outputId": "8c273e5e-a8d3-4b74-d92c-0b7c6f96d9d7"
      },
      "execution_count": 3,
      "outputs": [
        {
          "output_type": "execute_result",
          "data": {
            "application/vnd.google.colaboratory.intrinsic+json": {
              "type": "string"
            },
            "text/plain": [
              "'3.7.12'"
            ]
          },
          "metadata": {},
          "execution_count": 3
        }
      ]
    },
    {
      "cell_type": "markdown",
      "source": [
        "##Question 3"
      ],
      "metadata": {
        "id": "hV8cMiSIuQqR"
      }
    },
    {
      "cell_type": "code",
      "source": [
        "import datetime\n",
        "ctime= datetime.datetime.now()\n",
        "print(\"Current Time =\", ctime)"
      ],
      "metadata": {
        "colab": {
          "base_uri": "https://localhost:8080/"
        },
        "id": "ssJdOcpermLv",
        "outputId": "c8d79500-27db-43af-83c5-715fcf944cf1"
      },
      "execution_count": 4,
      "outputs": [
        {
          "output_type": "stream",
          "name": "stdout",
          "text": [
            "Current Time = 2021-12-31 10:18:20.095026\n"
          ]
        }
      ]
    },
    {
      "cell_type": "markdown",
      "source": [
        "##Question 4"
      ],
      "metadata": {
        "id": "ibqWqcrtuWF0"
      }
    },
    {
      "cell_type": "code",
      "source": [
        "#r = input(\"Enter the radius of circle: \")\n",
        "def area_cir():\n",
        "  r = float(input(\"Enter the radius of circle: \"))\n",
        "  area = 3.142* r**2\n",
        "\n",
        "  print(\"Area of circle is \", area)\n"
      ],
      "metadata": {
        "id": "qyK0YIxAs4Yd"
      },
      "execution_count": 5,
      "outputs": []
    },
    {
      "cell_type": "code",
      "source": [
        "area_cir()\n"
      ],
      "metadata": {
        "colab": {
          "base_uri": "https://localhost:8080/"
        },
        "id": "Ff1fKTGgv0Zb",
        "outputId": "6a9b453f-12be-4b94-ca40-1fb78f9fdc87"
      },
      "execution_count": 6,
      "outputs": [
        {
          "output_type": "stream",
          "name": "stdout",
          "text": [
            "Enter the radius of circle: 5\n",
            "Area of circle is  78.55\n"
          ]
        }
      ]
    },
    {
      "cell_type": "markdown",
      "source": [
        "##Question 5"
      ],
      "metadata": {
        "id": "fXPFLIynyh_v"
      }
    },
    {
      "cell_type": "code",
      "source": [
        "name= input(\"Enter First and Last name: \")"
      ],
      "metadata": {
        "colab": {
          "base_uri": "https://localhost:8080/"
        },
        "id": "EQj25P_Vv-Fs",
        "outputId": "fb1cadee-b2e8-48fa-bdae-2729beb68cea"
      },
      "execution_count": 16,
      "outputs": [
        {
          "name": "stdout",
          "output_type": "stream",
          "text": [
            "Enter First and Last name: Faiza khalil\n"
          ]
        }
      ]
    },
    {
      "cell_type": "code",
      "source": [
        "print (name[::-1])"
      ],
      "metadata": {
        "colab": {
          "base_uri": "https://localhost:8080/"
        },
        "id": "a6zRGOch1Uk2",
        "outputId": "7101c977-8f56-4c98-ae48-ec85cf033e2a"
      },
      "execution_count": 17,
      "outputs": [
        {
          "output_type": "stream",
          "name": "stdout",
          "text": [
            "lilahk aziaF\n"
          ]
        }
      ]
    },
    {
      "cell_type": "markdown",
      "source": [
        "##Question 6\n"
      ],
      "metadata": {
        "id": "JgEbah9WDZuM"
      }
    },
    {
      "cell_type": "code",
      "source": [
        "def add_num():\n",
        "  num1= int(input('Enter a number to add: '))\n",
        "  num2= int(input('Enter second number to add: '))\n",
        "\n",
        "  print(num1+num2)"
      ],
      "metadata": {
        "id": "CP-WRYd03qki"
      },
      "execution_count": 24,
      "outputs": []
    },
    {
      "cell_type": "code",
      "source": [
        "add_num()"
      ],
      "metadata": {
        "colab": {
          "base_uri": "https://localhost:8080/"
        },
        "id": "2WgLNDG1DqaV",
        "outputId": "06465268-b131-4a6f-ad21-959d57a281ac"
      },
      "execution_count": 25,
      "outputs": [
        {
          "output_type": "stream",
          "name": "stdout",
          "text": [
            "Enter a number to add: 8\n",
            "Enter second number to add: 4\n",
            "12\n"
          ]
        }
      ]
    },
    {
      "cell_type": "code",
      "source": [
        ""
      ],
      "metadata": {
        "id": "KjsrodZOFHFu"
      },
      "execution_count": 33,
      "outputs": []
    },
    {
      "cell_type": "code",
      "source": [
        ""
      ],
      "metadata": {
        "id": "YUddu8EuOmb7"
      },
      "execution_count": null,
      "outputs": []
    }
  ]
}